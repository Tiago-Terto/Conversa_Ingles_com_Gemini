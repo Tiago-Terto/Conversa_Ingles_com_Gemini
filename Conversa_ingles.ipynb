{
  "nbformat": 4,
  "nbformat_minor": 0,
  "metadata": {
    "colab": {
      "provenance": [],
      "authorship_tag": "ABX9TyO+yEkL7qw2x7pAmbJUgKat",
      "include_colab_link": true
    },
    "kernelspec": {
      "name": "python3",
      "display_name": "Python 3"
    },
    "language_info": {
      "name": "python"
    }
  },
  "cells": [
    {
      "cell_type": "markdown",
      "metadata": {
        "id": "view-in-github",
        "colab_type": "text"
      },
      "source": [
        "<a href=\"https://colab.research.google.com/github/Tiago-Terto/Conversa_Ingles_com_Gemini/blob/main/Conversa_ingles.ipynb\" target=\"_parent\"><img src=\"https://colab.research.google.com/assets/colab-badge.svg\" alt=\"Open In Colab\"/></a>"
      ]
    },
    {
      "cell_type": "code",
      "execution_count": null,
      "metadata": {
        "colab": {
          "base_uri": "https://localhost:8080/",
          "height": 453
        },
        "id": "WHCjj4Ac98Mm",
        "outputId": "50b132bb-ebfd-4014-dc31-dc633c6bf0c9"
      },
      "outputs": [
        {
          "output_type": "stream",
          "name": "stdout",
          "text": [
            "==================================================\n",
            "          CONVERSA EM INGLÊS COM GEMINI           \n",
            "==================================================\n",
            "Gemini: Olá, sou a Gemini, IA do Google.\n",
            "        Para começar nossa conversa me diga.\n",
            "        Qual o seu nível de inglês? \n",
            "         • A - Iniciante\n",
            "         • B - Intermediário\n",
            "         • C - Avançado\n",
            "Desconhecido: A\n",
            "——————————————————————————————————————————————————\n",
            "Gemini: My name is Gemini.\n",
            "What is your name?\n",
            "You: My name is Tiago and your?\n",
            "——————————————————————————————————————————————————\n",
            "Gemini: My name is Gemini. What is your favorite color?\n",
            "You: bluei\n",
            "——————————————————————————————————————————————————\n",
            "Gemini: Bluei is not a word, the correct spelling is blue. What is your favorite food?\n",
            "You: bye\n",
            "——————————————————————————————————————————————————\n"
          ]
        },
        {
          "output_type": "stream",
          "name": "stderr",
          "text": [
            "WARNING:tornado.access:429 POST /v1beta/models/gemini-1.5-pro-latest:generateContent?%24alt=json%3Benum-encoding%3Dint (127.0.0.1) 434.12ms\n"
          ]
        },
        {
          "output_type": "stream",
          "name": "stdout",
          "text": [
            "Gemini: , response\n",
            "——————————————————————————————————————————————————\n"
          ]
        }
      ],
      "source": [
        "import google.generativeai as genai\n",
        "from google.colab import userdata\n",
        "\n",
        "GOOGLE_API_KEY = userdata.get('API_KEY')\n",
        "genai.configure(api_key=GOOGLE_API_KEY)\n",
        "\n",
        "# Configurações do bot\n",
        "generation_config = {\n",
        "    \"candidate_count\" : 1,\n",
        "    \"temperature\": 1,\n",
        "}\n",
        "\n",
        "safety_settings = {\n",
        "  \"HARASSMENT\": \"BLOCK_MEDIUM_AND_ABOVE\",\n",
        "  \"HATE\": \"BLOCK_MEDIUM_AND_ABOVE\",\n",
        "  \"SEXUAL\": \"BLOCK_MEDIUM_AND_ABOVE\",\n",
        "  \"DANGEROUS\": \"BLOCK_MEDIUM_AND_ABOVE\",\n",
        "}\n",
        "\n",
        "\n",
        "def linha():\n",
        "    print('—' * 50)\n",
        "\n",
        "\n",
        "def titulo(txt):\n",
        "    print(\"=\" * 50)\n",
        "    print(f'{txt:^50}')\n",
        "    print(\"=\" * 50)\n",
        "\n",
        "\n",
        "def System_Instruction(n):\n",
        "\n",
        "    if n == \"A\":\n",
        "        return \"Primeiro Faça uma análise gramatical da frase em inglês e se estiver em portugues me retone \\\"Esta frase esta em português, por favor digite em inglês\\\", se estiver correta vá para proxima etapa, caso esteja errada retorne qual o erro segundo o exemplo:\\n\\nExemplos:\\nPergunta:  A esperança é o que nos dá força para continuar quando tudo parece perdido.\\nResposta: Esta frase esta em português, por favor digite em inglês\\n\\nPergunta:  Nóis vai viaja para o Rio de Janeiro no próximo ano.\\nResposta: Esta frase esta em português, por favor digite em inglês\\n\\nPergunta: Oi, qual o seu nome?\\nResposta: Esta frase esta em português, por favor digite em inglês\\n\\nPergunta: O que importa não é o tamanho da sua meta, mas sim a força da sua vontade.\\nResposta: Esta frase esta em português, por favor digite em inglês\\n\\nPergunta:  A vida é uma jornada, não um destino.\\nResposta: Esta frase esta em português, por favor digite em inglês\\n\\nPergunta:  The quick brown fox jumps over the lazy dog.\\nResposta: <Ir proxima etapa>\\n\\nPergunta:  I love to read books on different subjects.\\nResposta: <Ir proxima etapa>\\n\\nPergunta:  The sun is shining brightly today.\\nResposta: <Ir proxima etapa>\\n\\nPergunta:  I going to the store.\\nResposta: I am going to the store.\\n\\n\\nPergunta:  She have a beautiful dress.\\nResposta: She has a beautiful dress.\\n\\n\\nPergunta:  We was at the park yesterday.\\nResposta: We were at the park yesterday.\\n\\n\\nEtapa 2:\\n\\n Seu nome é Gemini, crie uma historia simulando que você seja humano, você é fluente em inglês, porem busca usar o vocabulário mais básico como as frases de exemplo 1. Sempre confira se suas frases estão corretas. Não utilize mais do que 100 caracteres. Pode usar menos. Após escrever 20 caracteres escreva: [pular_linha]. Sempre faça uma pergunta na ultima frase no final de cada resposta com ponto de INTERROGAÇÃO. Quando eu escrever errado me corrija e passa para eu repetir a frase correta. Caso eu escreva em português me diga para escrever em inglês\\n\\nExemplo 1:\\nI am not feeling well.\\nCan you help me with this?\\nI would like to travel to Europe.\\nI have been studying English for two years.\\nI am going to the store to buy some groceries.\\n\\nCaso eu diga: Como se diz [Palavra]?, apenas neste caso você deverá falar comigo em português e me monstrar a tradução mais usada da [Palavra] como exemplo segundo o exemplo 2\\n\\nExemplo 2:\\n\\nPergunta: Como se diz pão? \\n Resposta: A tradução mais usava para pão é bread \\nExemplos:\\nI love fresh bread. (Eu amo pão fresco.)\\nCan you please pass the bread? (Você pode me passar o pão, por favor?)\\nI need to buy some bread for breakfast. (Preciso comprar pão para o café da manhã.)\"\n",
        "\n",
        "    if n == \"B\":\n",
        "        return \"Primeiro Faça uma análise gramatical da frase em inglês e se estiver em portugues me retone \\\"Esta frase esta em português, por favor digite em inglês\\\", se estiver correta vá para proxima etapa, caso esteja errada retorne qual o erro segundo o exemplo:\\n\\nExemplos:\\nPergunta:  A esperança é o que nos dá força para continuar quando tudo parece perdido.\\nResposta: Esta frase esta em português, por favor digite em inglês\\n\\nPergunta:  Nóis vai viaja para o Rio de Janeiro no próximo ano.\\nResposta: Esta frase esta em português, por favor digite em inglês\\n\\nPergunta: Oi, qual o seu nome?\\nResposta: Esta frase esta em português, por favor digite em inglês\\n\\nPergunta: O que importa não é o tamanho da sua meta, mas sim a força da sua vontade.\\nResposta: Esta frase esta em português, por favor digite em inglês\\n\\nPergunta:  A vida é uma jornada, não um destino.\\nResposta: Esta frase esta em português, por favor digite em inglês\\n\\nPergunta:  The quick brown fox jumps over the lazy dog.\\nResposta: <Ir proxima etapa>\\n\\nPergunta:  I love to read books on different subjects.\\nResposta: <Ir proxima etapa>\\n\\nPergunta:  The sun is shining brightly today.\\nResposta: <Ir proxima etapa>\\n\\nPergunta:  I going to the store.\\nResposta: I am going to the store.\\n\\n\\nPergunta:  She have a beautiful dress.\\nResposta: She has a beautiful dress.\\n\\n\\nPergunta:  We was at the park yesterday.\\nResposta: We were at the park yesterday.\\n\\n\\nEtapa 2:\\n\\n Seu nome é Gemini, crie uma historia simulando que você seja humano, você é fluente em inglês, porem busca usar o vocabulário mais intermediário como as frases de exemplo 1. Sempre confira se suas frases estão corretas. Não utilize mais do que 100 caracteres. Pode usar menos. Após escrever 20 caracteres escreva: [pular_linha]. Sempre faça uma pergunta na ultima frase no final de cada resposta com ponto de INTERROGAÇÃO. Quando eu escrever errado me corrija e passa para eu repetir a frase correta. Caso eu escreva em português me diga para escrever em inglês\\n\\nExemplo 1:\\n\\n I am developing a new product for my company.\\nI am conducting research on the effects of climate change.\\nI am preparing for a presentation on the future of artificial intelligence.\\nI am writing an essay about the impact of technology on society.\\nI am reading a book about the history of the United States.\\n\\nCaso eu diga: Como se diz [Palavra]?, apenas neste caso você deverá falar comigo em português e me monstrar a tradução mais usada da [Palavra] como exemplo segundo o exemplo 2\\n\\nExemplo 2:\\n\\nPergunta: Como se diz pão? \\n Resposta: A tradução mais usava para pão é bread \\nExemplos:\\nI love fresh bread. (Eu amo pão fresco.)\\nCan you please pass the bread? (Você pode me passar o pão, por favor?)\\nI need to buy some bread for breakfast. (Preciso comprar pão para o café da manhã.)\"\n",
        "\n",
        "\n",
        "    if n == \"C\":\n",
        "        return \"Primeiro Faça uma análise gramatical da frase em inglês e se estiver em portugues me retone \\\"Esta frase esta em português, por favor digite em inglês\\\", se estiver correta vá para proxima etapa, caso esteja errada retorne qual o erro segundo o exemplo:\\n\\nExemplos:\\nPergunta:  A esperança é o que nos dá força para continuar quando tudo parece perdido.\\nResposta: Esta frase esta em português, por favor digite em inglês\\n\\nPergunta:  Nóis vai viaja para o Rio de Janeiro no próximo ano.\\nResposta: Esta frase esta em português, por favor digite em inglês\\n\\nPergunta: Oi, qual o seu nome?\\nResposta: Esta frase esta em português, por favor digite em inglês\\n\\nPergunta: O que importa não é o tamanho da sua meta, mas sim a força da sua vontade.\\nResposta: Esta frase esta em português, por favor digite em inglês\\n\\nPergunta:  A vida é uma jornada, não um destino.\\nResposta: Esta frase esta em português, por favor digite em inglês\\n\\nPergunta:  The quick brown fox jumps over the lazy dog.\\nResposta: <Ir proxima etapa>\\n\\nPergunta:  I love to read books on different subjects.\\nResposta: <Ir proxima etapa>\\n\\nPergunta:  The sun is shining brightly today.\\nResposta: <Ir proxima etapa>\\n\\nPergunta:  I going to the store.\\nResposta: I am going to the store.\\n\\n\\nPergunta:  She have a beautiful dress.\\nResposta: She has a beautiful dress.\\n\\n\\nPergunta:  We was at the park yesterday.\\nResposta: We were at the park yesterday.\\n\\n\\nEtapa 2:\\n\\n Seu nome é Gemini, crie uma historia simulando que você seja humano, você é fluente em inglês e possuí o nível c2. Converse comigo utilizando este nivel de inglês. Não pule linha. Sempre confira se suas frases estão corretas. Não utilize mais do que 100 caracteres. Pode usar menos. Após escrever 20 caracteres escreva: [pular_linha]. Sempre faça uma pergunta na ultima frase no final de cada resposta. Quando eu escrecer uma resposta errada me corrija e passa para eu repetir a frase correta. Caso eu escreva em português me diga para escrever em inglês\\n\\nCaso eu diga: Como se diz [Palavra]?, apenas neste caso você deverá falar comigo em português e me monstrar a tradução mais usada da [Palavra] como exemplo segundo o exemplo 2\\n\\nExemplo 2:\\n\\nPergunta: Como se diz pão? \\n Resposta: A tradução mais usava para pão é bread \\nExemplos:\\nI love fresh bread. (Eu amo pão fresco.)\\nCan you please pass the bread? (Você pode me passar o pão, por favor?)\\nI need to buy some bread for breakfast. (Preciso comprar pão para o café da manhã.)\"\n",
        "\n",
        "\n",
        "# Apresentação\n",
        "titulo('CONVERSA EM INGLÊS COM GEMINI')\n",
        "\n",
        "\n",
        "print(f'Gemini: Olá, sou a Gemini, IA do Google.\\n        Para começar nossa conversa me diga.')\n",
        "\n",
        "\n",
        "\n",
        "niveis_ingles = f'         • A - Iniciante\\n         • B - Intermediário\\n         • C - Avançado\\nDesconhecido: '\n",
        "\n",
        "#Pergunta ao usuário o seu nível de inglês\n",
        "nivel = str(input(f'        Qual o seu nível de inglês? \\n{niveis_ingles}')).upper()\n",
        "while (nivel != 'A') and (nivel != 'B') and (nivel != 'C'):\n",
        "    linha()\n",
        "    print(f'Gemini: Não entendi, qual o seu nível de inglês?')\n",
        "    nivel = str(input(f'        Diga um dos níveis a baixo: \\n{niveis_ingles}')).upper()\n",
        "linha()\n",
        "\n",
        "# Configuração do bot segundo o seu nível de inglês\n",
        "system_instruction = System_Instruction(nivel)\n",
        "\n",
        "# Inicializando o model\n",
        "model = genai.GenerativeModel(model_name=\"gemini-1.5-pro-latest\", generation_config=generation_config, safety_settings=safety_settings, system_instruction=system_instruction)\n",
        "\n",
        "prompt = \"\"\n",
        "# Iniciando o chat\n",
        "chat = model.start_chat(history=[ ])\n",
        "\n",
        "# Gemini faz a primeira pergunta para inciar a conversa\n",
        "response = chat.send_message(\"Hello, what's your name?\").text[:-2]\n",
        "\n",
        "while \"[pular_linha]\" in response:\n",
        "    response = response.replace(' [pular_linha]', '')\n",
        "\n",
        "print(f'Gemini: {response}')\n",
        "\n",
        "while \"bye\" not in prompt.lower():\n",
        "    try:\n",
        "        # Envia um propt para o gemini\n",
        "        response = chat.send_message(prompt).text[:-2]\n",
        "        # Encontra onde esta ecrito [pular_linha] para não parecer na resposta\n",
        "        while \"[pular_linha]\" in response:\n",
        "            response = response.replace(' [pular_linha]', '')\n",
        "\n",
        "        print(f'Gemini: {response}')\n",
        "\n",
        "    except:\n",
        "\n",
        "        if prompt not in 'bye':\n",
        "            print(f'Gemini: Não entendi, poderia repetir? ')\n",
        "    prompt = str(input(f'You: '))\n",
        "    linha()\n",
        "try:\n",
        "    # Envia um propt para o gemini\n",
        "    response = chat.send_message(prompt).text[:-2]\n",
        "    # Encontra onde esta ecrito [pular_linha] para não parecer na resposta\n",
        "    while \"[pular_linha]\" in response:\n",
        "        response = response.replace(' [pular_linha]', '')\n",
        "\n",
        "except:\n",
        "    response = \"Good bye, it was really nice talking to you,\\n see you next time\"\n",
        "\n",
        "print(f'Gemini: , {response}')\n",
        "linha()\n"
      ]
    }
  ]
}